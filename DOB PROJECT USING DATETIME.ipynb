{
 "cells": [
  {
   "cell_type": "code",
   "execution_count": 1,
   "id": "e2fca876",
   "metadata": {},
   "outputs": [],
   "source": [
    "import datetime"
   ]
  },
  {
   "cell_type": "code",
   "execution_count": 2,
   "id": "9409189a",
   "metadata": {},
   "outputs": [],
   "source": [
    "start = datetime.datetime(2003,4,2)\n",
    "end = datetime.datetime.now()"
   ]
  },
  {
   "cell_type": "code",
   "execution_count": 3,
   "id": "a71579bb",
   "metadata": {},
   "outputs": [
    {
     "name": "stdout",
     "output_type": "stream",
     "text": [
      "Wednesday\n"
     ]
    }
   ],
   "source": [
    "#day you  born\n",
    "print(start.strftime(\"%A\"))"
   ]
  },
  {
   "cell_type": "code",
   "execution_count": 4,
   "id": "e959beb1",
   "metadata": {},
   "outputs": [
    {
     "name": "stdout",
     "output_type": "stream",
     "text": [
      "21years 2months 19days\n"
     ]
    }
   ],
   "source": [
    "#yrs,mon and days between dob to today\n",
    "years = abs(start.year - end.year)\n",
    "months = abs(start.month - end.month)\n",
    "days = abs(start.day - end.day)\n",
    "print('{0}years {1}months {2}days'.format(years,months,days))"
   ]
  },
  {
   "cell_type": "code",
   "execution_count": 5,
   "id": "3983ca1c",
   "metadata": {},
   "outputs": [
    {
     "name": "stdout",
     "output_type": "stream",
     "text": [
      "Difference in days:  7630 days, 17:23:48.285826\n"
     ]
    }
   ],
   "source": [
    "#Days difference between dob to today\n",
    "days = abs(start - end)\n",
    "print(\"Difference in days: \" ,days)\n"
   ]
  },
  {
   "cell_type": "code",
   "execution_count": 6,
   "id": "419a1046",
   "metadata": {},
   "outputs": [
    {
     "name": "stdout",
     "output_type": "stream",
     "text": [
      "Difference in weekends:  1090\n"
     ]
    }
   ],
   "source": [
    "#Weekends difference between dob to today\n",
    "days = abs(start - end).days \n",
    "print(\"Difference in weekends: \",days//7)\n"
   ]
  },
  {
   "cell_type": "code",
   "execution_count": 7,
   "id": "2008c126",
   "metadata": {},
   "outputs": [
    {
     "name": "stdout",
     "output_type": "stream",
     "text": [
      "Difference in months:  250\n"
     ]
    }
   ],
   "source": [
    "#Months difference between dob to today\n",
    "months = abs((start.year - end.year)*12+(start.month - end.month))\n",
    "print('Difference in months: ' ,months)\n"
   ]
  },
  {
   "cell_type": "code",
   "execution_count": 8,
   "id": "db2fe7ef",
   "metadata": {},
   "outputs": [
    {
     "name": "stdout",
     "output_type": "stream",
     "text": [
      "Differnce in hours:  183137.39674606276\n"
     ]
    }
   ],
   "source": [
    "#Hours difference between dob to today\n",
    "diff = abs(start - end)\n",
    "diff_in_hrs = abs(diff.total_seconds() / 3600)\n",
    "print(\"Differnce in hours: \",diff_in_hrs)"
   ]
  },
  {
   "cell_type": "code",
   "execution_count": 9,
   "id": "2faa0cfd",
   "metadata": {},
   "outputs": [
    {
     "name": "stdout",
     "output_type": "stream",
     "text": [
      "Differnce in minutes:  10988243.804763766\n"
     ]
    }
   ],
   "source": [
    "#Minutes difference between dob to today\n",
    "diff = abs(start - end)\n",
    "diff_in_min = abs(diff.total_seconds() / 60)\n",
    "print(\"Differnce in minutes: \",diff_in_min)\n"
   ]
  },
  {
   "cell_type": "code",
   "execution_count": 11,
   "id": "3c81fe00",
   "metadata": {},
   "outputs": [
    {
     "name": "stdout",
     "output_type": "stream",
     "text": [
      "Difference in seconds:  659294628\n"
     ]
    }
   ],
   "source": [
    "#Seconds difference between dob to today\n",
    "def diff_sec(start,end):\n",
    "    timedelta = abs(start - end)\n",
    "    return timedelta.days*24*3600+timedelta.seconds\n",
    "print(\"Difference in seconds: \",diff_sec(start,end))\n"
   ]
  }
 ],
 "metadata": {
  "kernelspec": {
   "display_name": "Python 3 (ipykernel)",
   "language": "python",
   "name": "python3"
  },
  "language_info": {
   "codemirror_mode": {
    "name": "ipython",
    "version": 3
   },
   "file_extension": ".py",
   "mimetype": "text/x-python",
   "name": "python",
   "nbconvert_exporter": "python",
   "pygments_lexer": "ipython3",
   "version": "3.11.5"
  }
 },
 "nbformat": 4,
 "nbformat_minor": 5
}
